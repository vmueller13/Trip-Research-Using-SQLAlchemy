{
 "cells": [
  {
   "cell_type": "code",
   "execution_count": 11,
   "id": "94f46141",
   "metadata": {},
   "outputs": [],
   "source": [
    "import time\n",
    "from selenium import webdriver\n",
    "from selenium.webdriver.chrome.service import Service\n",
    "from selenium.webdriver.common.action_chains import ActionChains\n",
    "from webdriver_manager.chrome import ChromeDriverManager\n",
    "from IPython.display import Image\n",
    "import os\n",
    "from PIL import Image"
   ]
  },
  {
   "cell_type": "code",
   "execution_count": 12,
   "id": "25a7c173",
   "metadata": {},
   "outputs": [],
   "source": [
    "driver_service = Service(ChromeDriverManager().install())\n",
    "driver = webdriver.Chrome(service=driver_service)"
   ]
  },
  {
   "cell_type": "code",
   "execution_count": 13,
   "id": "0576db25",
   "metadata": {},
   "outputs": [
    {
     "data": {
      "text/plain": [
       "True"
      ]
     },
     "execution_count": 13,
     "metadata": {},
     "output_type": "execute_result"
    }
   ],
   "source": [
    "#Set up the folder name and file path for saving the image:\n",
    "folder_name = \"Images\"\n",
    "os.makedirs(folder_name, exist_ok=True)  # Create the folder if it doesn't exist\n",
    "file_path = os.path.join(folder_name, \"flask_screenshot.png\")  # Specify the file name and extension\n",
    "\n",
    "# Replace 'http://localhost:5000' with the URL of your Flask app\n",
    "driver.get('http://127.0.0.1:5000/')\n",
    "\n",
    "time.sleep(5)  # Adjust the delay as needed to ensure the app is fully loaded\n",
    "# Desired filename and extension\n",
    "screenshot_file = 'flask_screenshot.png'\n",
    "driver.save_screenshot(file_path)"
   ]
  },
  {
   "cell_type": "code",
   "execution_count": 14,
   "id": "d4a733da",
   "metadata": {},
   "outputs": [],
   "source": [
    "# Open the screenshot image using PIL\n",
    "image = Image.open(file_path)\n",
    "\n",
    "# Get the width and height of the image\n",
    "width, height = image.size\n",
    "\n",
    "# Define the cropped region (adjust the values as needed)\n",
    "crop_region = (0, 0, width, height - 100)  # Crop 100 pixels from the bottom\n",
    "\n",
    "# Crop the image\n",
    "cropped_image = image.crop(crop_region)\n",
    "\n",
    "# Save the cropped image\n",
    "cropped_file_path = os.path.join(folder_name, \"flask_screenshot_cropped.png\")\n",
    "cropped_image.save(cropped_file_path)\n",
    "\n",
    "# Close the image\n",
    "image.close()"
   ]
  },
  {
   "cell_type": "code",
   "execution_count": null,
   "id": "138c46a3",
   "metadata": {},
   "outputs": [],
   "source": []
  },
  {
   "cell_type": "code",
   "execution_count": 15,
   "id": "7b593c0c",
   "metadata": {},
   "outputs": [
    {
     "ename": "TypeError",
     "evalue": "'module' object is not callable",
     "output_type": "error",
     "traceback": [
      "\u001b[1;31m---------------------------------------------------------------------------\u001b[0m",
      "\u001b[1;31mTypeError\u001b[0m                                 Traceback (most recent call last)",
      "\u001b[1;32m~\\AppData\\Local\\Temp\\ipykernel_43756\\3951617244.py\u001b[0m in \u001b[0;36m<module>\u001b[1;34m\u001b[0m\n\u001b[0;32m      1\u001b[0m \u001b[0mdriver\u001b[0m\u001b[1;33m.\u001b[0m\u001b[0mquit\u001b[0m\u001b[1;33m(\u001b[0m\u001b[1;33m)\u001b[0m\u001b[1;33m\u001b[0m\u001b[1;33m\u001b[0m\u001b[0m\n\u001b[1;32m----> 2\u001b[1;33m \u001b[0mImage\u001b[0m\u001b[1;33m(\u001b[0m\u001b[0mscreenshot_file\u001b[0m\u001b[1;33m)\u001b[0m\u001b[1;33m\u001b[0m\u001b[1;33m\u001b[0m\u001b[0m\n\u001b[0m",
      "\u001b[1;31mTypeError\u001b[0m: 'module' object is not callable"
     ]
    }
   ],
   "source": [
    "driver.quit()\n",
    "Image(screenshot_file)"
   ]
  },
  {
   "cell_type": "code",
   "execution_count": null,
   "id": "f62cadf8",
   "metadata": {},
   "outputs": [],
   "source": []
  }
 ],
 "metadata": {
  "kernelspec": {
   "display_name": "Python 3 (ipykernel)",
   "language": "python",
   "name": "python3"
  },
  "language_info": {
   "codemirror_mode": {
    "name": "ipython",
    "version": 3
   },
   "file_extension": ".py",
   "mimetype": "text/x-python",
   "name": "python",
   "nbconvert_exporter": "python",
   "pygments_lexer": "ipython3",
   "version": "3.9.13"
  }
 },
 "nbformat": 4,
 "nbformat_minor": 5
}
