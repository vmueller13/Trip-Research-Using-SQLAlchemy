{
 "cells": [
  {
   "cell_type": "code",
   "execution_count": 7,
   "id": "94f46141",
   "metadata": {},
   "outputs": [],
   "source": [
    "import time\n",
    "from selenium import webdriver\n",
    "from selenium.webdriver.chrome.service import Service\n",
    "from selenium.webdriver.common.action_chains import ActionChains\n",
    "from webdriver_manager.chrome import ChromeDriverManager\n",
    "from IPython.display import Image\n",
    "import os\n",
    "from PIL import Image"
   ]
  },
  {
   "cell_type": "code",
   "execution_count": 8,
   "id": "25a7c173",
   "metadata": {},
   "outputs": [],
   "source": [
    "driver_service = Service(ChromeDriverManager().install())\n",
    "driver = webdriver.Chrome(service=driver_service)"
   ]
  },
  {
   "cell_type": "code",
   "execution_count": 9,
   "id": "0576db25",
   "metadata": {},
   "outputs": [
    {
     "data": {
      "text/plain": [
       "True"
      ]
     },
     "execution_count": 9,
     "metadata": {},
     "output_type": "execute_result"
    }
   ],
   "source": [
    "#Set up the folder name and file path for saving the image:\n",
    "folder_name = \"Images\"\n",
    "os.makedirs(folder_name, exist_ok=True)  # Create the folder if it doesn't exist\n",
    "file_path = os.path.join(folder_name, \"flask_screenshot.png\")  # Specify the file name and extension\n",
    "\n",
    "# Replace 'http://localhost:5000' with the URL of your Flask app\n",
    "driver.get('http://127.0.0.1:5000/')\n",
    "\n",
    "time.sleep(5)  # Adjust the delay as needed to ensure the app is fully loaded\n",
    "\n",
    "# Desired filename and extension\n",
    "screenshot_file = 'flask_screenshot.png'\n",
    "driver.save_screenshot(file_path)"
   ]
  },
  {
   "cell_type": "code",
   "execution_count": 28,
   "id": "a756750b",
   "metadata": {},
   "outputs": [
    {
     "data": {
      "text/plain": [
       "(754, 200)"
      ]
     },
     "execution_count": 28,
     "metadata": {},
     "output_type": "execute_result"
    }
   ],
   "source": [
    "# Open the screenshot image using PIL\n",
    "image = Image.open(file_path)\n",
    "\n",
    "# Get the width and height of the image\n",
    "width, height = image.size\n",
    "\n",
    "# Define the cropped region (adjust the values as needed)\n",
    "crop_region = (0, 0, width - 800, height - 700)  # Crop pixels from the bottom and from the side\n",
    "\n",
    "# Crop the image\n",
    "cropped_image = image.crop(crop_region)\n",
    "\n",
    "# Save the cropped image\n",
    "cropped_file_path = os.path.join(folder_name, \"flask_screenshot_cropped.png\")\n",
    "cropped_image.save(cropped_file_path)\n",
    "\n",
    "#View the cropped image\n",
    "cropped_file = Image.open(cropped_file_path)\n",
    "width, height = cropped_file.size\n",
    "\n",
    "cropped_file.size"
   ]
  },
  {
   "cell_type": "code",
   "execution_count": 21,
   "id": "7b593c0c",
   "metadata": {},
   "outputs": [],
   "source": [
    "driver.quit()"
   ]
  },
  {
   "cell_type": "code",
   "execution_count": null,
   "id": "b513f380",
   "metadata": {},
   "outputs": [],
   "source": []
  }
 ],
 "metadata": {
  "kernelspec": {
   "display_name": "Python 3 (ipykernel)",
   "language": "python",
   "name": "python3"
  },
  "language_info": {
   "codemirror_mode": {
    "name": "ipython",
    "version": 3
   },
   "file_extension": ".py",
   "mimetype": "text/x-python",
   "name": "python",
   "nbconvert_exporter": "python",
   "pygments_lexer": "ipython3",
   "version": "3.9.13"
  }
 },
 "nbformat": 4,
 "nbformat_minor": 5
}
